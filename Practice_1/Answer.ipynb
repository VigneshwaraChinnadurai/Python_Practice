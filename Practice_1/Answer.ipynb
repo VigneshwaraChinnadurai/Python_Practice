{
  "nbformat": 4,
  "nbformat_minor": 0,
  "metadata": {
    "colab": {
      "name": "Practice_1.ipynb",
      "version": "0.3.2",
      "provenance": [],
      "collapsed_sections": [],
      "include_colab_link": true
    },
    "kernelspec": {
      "name": "python3",
      "display_name": "Python 3"
    }
  },
  "cells": [
    {
      "cell_type": "markdown",
      "metadata": {
        "id": "view-in-github",
        "colab_type": "text"
      },
      "source": [
        "<a href=\"https://colab.research.google.com/github/VigneshwaraChinnadurai/Python_Practice/blob/master/Practice_1/Answer.ipynb\" target=\"_parent\"><img src=\"https://colab.research.google.com/assets/colab-badge.svg\" alt=\"Open In Colab\"/></a>"
      ]
    },
    {
      "cell_type": "code",
      "metadata": {
        "id": "dmy27NDwHBvF",
        "colab_type": "code",
        "outputId": "aa28d7ab-4ad0-49b5-d9da-48b3bb9d33c5",
        "colab": {
          "base_uri": "https://localhost:8080/",
          "height": 105
        }
      },
      "source": [
        "import numpy as np\n",
        "combinations=[]\n",
        "b=1\n",
        "vowel=0\n",
        "string=str(input('Enter the range value: '))\n",
        "while len(string)>1:\n",
        "  for a in range(b,len(string)+1):\n",
        "    split1=[string[x:x+a]for x in range (0,len(string),a)]\n",
        "    if len(split1[len(split1)-1])!=a:\n",
        "      split1.pop(len(split1)-1)\n",
        "    combinations.extend(split1)\n",
        "  string=string[1:len(string)]\n",
        "  b=b+1\n",
        "print('combinations are: ',combinations)\n",
        "combination_length=len(combinations)\n",
        "for r in range(0,len(combinations)-1):\n",
        "  if (combinations[r].startswith('a')):\n",
        "    vowel=vowel+1\n",
        "  elif (combinations[r].startswith('e')):\n",
        "    vowel=vowel+1\n",
        "  elif (combinations[r].startswith('i')):\n",
        "    vowel=vowel+1\n",
        "  elif (combinations[r].startswith('o')):\n",
        "    vowel=vowel+1\n",
        "  elif (combinations[r].startswith('u')):\n",
        "    vowel=vowel+1\n",
        "print('Output of Stuart: ', vovel)\n",
        "print('Output of Kevin: ',len(combinations)-vovel)"
      ],
      "execution_count": 12,
      "outputs": [
        {
          "output_type": "stream",
          "text": [
            "Enter the range value: banana\n",
            "combinations are:  ['b', 'a', 'n', 'a', 'n', 'a', 'ba', 'na', 'na', 'ban', 'ana', 'bana', 'banan', 'banana', 'an', 'an', 'ana', 'anan', 'anana', 'nan', 'nana']\n",
            "Output of Stuart:  9\n",
            "Output of Kevin:  12\n"
          ],
          "name": "stdout"
        }
      ]
    }
  ]
}
